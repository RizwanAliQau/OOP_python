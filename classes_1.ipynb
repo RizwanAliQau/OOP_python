{
 "cells": [
  {
   "cell_type": "markdown",
   "source": [
    "## Python class: Objects and classes\n",
    "- ### <u> **Classes**</u>:\n",
    "Classes are used to create objects which have functions and variables. Strings are examples of objects: A string book has the functions book.replace() and book.lowercase(). This style is often called object oriented programming.\n",
    "\n",
    "#### **<u>Python class</u>**\n",
    "\n",
    "We can create virtual objects in Python. A virtual object can contain variables and methods.  A program may have many different types and are created from a class. Example:\n",
    "\n",
    "In this code we have 3 virtual objects: james, david and eric.  Each object is instance of the User class.\n",
    "\n",
    "![](images/python_class.jpeg)\n",
    "\n",
    "**<u>Python Class: create objects</u>**\n",
    "\n",
    "In this class we defined the sayHello() method, which is why we can call it for each of the objects.  The init() method is called the constructor and is always called when creating an object.  The variables owned by the class is in this case “name”. These variables are sometimes called class attributes.\n",
    "\n",
    "We can create methods in classes which update the internal variables of the object.\n",
    "\n"
   ],
   "metadata": {}
  },
  {
   "cell_type": "code",
   "execution_count": 6,
   "source": [
    "class User:\n",
    "    name = \"\"\n",
    "    \n",
    "    def __init__(self, name):\n",
    "        self.name = name\n",
    "    \n",
    "    def sayHello(self):\n",
    "        print(\"Hello, my name is \" + self.name)\n",
    "\n",
    "# create virtual objects\n",
    "james = User(\"James\")\n",
    "david = User(\"David\")\n",
    "eric = User(\"Eric\")\n",
    "\n",
    "# call methods owned by virtual objects\n",
    "james.sayHello()\n",
    "david.sayHello()"
   ],
   "outputs": [
    {
     "output_type": "stream",
     "name": "stdout",
     "text": [
      "Hello, my name is James\n",
      "Hello, my name is David\n"
     ]
    }
   ],
   "metadata": {}
  },
  {
   "cell_type": "markdown",
   "source": [
    "## Class variables\n",
    "\n",
    "We define a class CoffeeMachine of which the virtual objects hold the amount of beans and amount of water. Both are defined as a number (integer). We may then define methods that add or remove beans."
   ],
   "metadata": {}
  },
  {
   "cell_type": "code",
   "execution_count": 7,
   "source": [
    "class CoffeeMachine:\n",
    "    name = \"\"\n",
    "    beans = 0\n",
    "    water = 0\n",
    "    \n",
    "    def __init__(self, name, beans, water):\n",
    "        self.name = name\n",
    "        self.beans = beans\n",
    "        self.water = water\n",
    "        \n",
    "    def addBean(self):\n",
    "        self.beans = self.beans + 1\n",
    "    \n",
    "    def removeBean(self):\n",
    "        self.beans = self.beans - 1\n",
    "    \n",
    "    def addWater(self):\n",
    "        self.water = self.water + 1\n",
    "    \n",
    "    def removeWater(self):\n",
    "        self.water = self.water - 1\n",
    "    \n",
    "    def printState(self):\n",
    "        print(\"Name  = \" + self.name)\n",
    "        print(\"Beans = \" + str(self.beans))\n",
    "        print(\"Water = \" + str(self.water))"
   ],
   "outputs": [],
   "metadata": {}
  },
  {
   "cell_type": "code",
   "execution_count": 8,
   "source": [
    "pythonBean = CoffeeMachine(\"Python Bean\", 83, 20)\n",
    "pythonBean.printState()\n",
    "print (\"\")\n",
    "pythonBean.addBean()\n",
    "pythonBean.printState()"
   ],
   "outputs": [
    {
     "output_type": "stream",
     "name": "stdout",
     "text": [
      "Name  = Python Bean\n",
      "Beans = 83\n",
      "Water = 20\n",
      "\n",
      "Name  = Python Bean\n",
      "Beans = 84\n",
      "Water = 20\n"
     ]
    }
   ],
   "metadata": {}
  },
  {
   "cell_type": "markdown",
   "source": [
    "### Class example\n",
    "Consider the example below:\n",
    "\n",
    "We create one object called ‘duck’ from the class Animal. The class has a method (walk) that can be called on each object. We also have a method called init(), this is a method that is always called when a new object is created. The self keyword is required for every method. We set the variables with the class (self.name = ..).\n",
    "\n",
    "![](images/python-class.png)\n",
    "\n",
    "Once the object is created, we can call its methods and use its variables indefinitely. Every object of the same class has the same methods, but its variables contents may differ.\n",
    "\n"
   ],
   "metadata": {}
  },
  {
   "cell_type": "code",
   "execution_count": 9,
   "source": [
    "class Animal:\n",
    "    def __init__(self,name):\n",
    "        self.name = name\n",
    "\n",
    "    def walk(self):\n",
    "        print(self.name + ' walks.')\n",
    "\n",
    "duck = Animal('Duck')\n",
    "duck.walk()"
   ],
   "outputs": [
    {
     "output_type": "stream",
     "name": "stdout",
     "text": [
      "Duck walks.\n"
     ]
    }
   ],
   "metadata": {}
  },
  {
   "cell_type": "markdown",
   "source": [
    "A Python program may consists of many classes and objects. To demonstrate that, we create two objects from one class:"
   ],
   "metadata": {}
  },
  {
   "cell_type": "code",
   "execution_count": 10,
   "source": [
    "class Animal:\n",
    "    def __init__(self,name):\n",
    "        self.name = name\n",
    "\n",
    "    def walk(self):\n",
    "        print(self.name + ' walks.')\n",
    "\n",
    "duck = Animal('Duck')\n",
    "duck.walk()\n",
    "\n",
    "rhino = Animal('African Rhino')\n",
    "rhino.walk()"
   ],
   "outputs": [
    {
     "output_type": "stream",
     "name": "stdout",
     "text": [
      "Duck walks.\n",
      "African Rhino walks.\n"
     ]
    }
   ],
   "metadata": {}
  },
  {
   "cell_type": "code",
   "execution_count": null,
   "source": [],
   "outputs": [],
   "metadata": {}
  }
 ],
 "metadata": {
  "orig_nbformat": 4,
  "language_info": {
   "name": "python",
   "version": "3.8.10",
   "mimetype": "text/x-python",
   "codemirror_mode": {
    "name": "ipython",
    "version": 3
   },
   "pygments_lexer": "ipython3",
   "nbconvert_exporter": "python",
   "file_extension": ".py"
  },
  "kernelspec": {
   "name": "python3",
   "display_name": "Python 3.8.10 64-bit"
  },
  "interpreter": {
   "hash": "916dbcbb3f70747c44a77c7bcd40155683ae19c65e1c03b4aa3499c5328201f1"
  }
 },
 "nbformat": 4,
 "nbformat_minor": 2
}