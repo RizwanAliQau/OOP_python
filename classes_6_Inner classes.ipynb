{
 "cells": [
  {
   "cell_type": "markdown",
   "source": [
    "## Inner classes\n",
    "\n",
    "An inner class or nested class is a defined entirely within the body of another class. If an object is created using a class, the object inside the root class can be used. A class can have more than one inner classes, but in general inner classes are avoided.\n",
    "\n",
    "One of the most useful and powerful features of Python is its ability to nest classes within classes. A nested class is a class defined within another class, and inherits all the variables and methods of the parent class.\n",
    "\n",
    "### Inner class example\n",
    "\n",
    "Python has inner classes. Inner classes are classes that are defined inside other classes. Inner classes have access to all the members of their outer classes.\n",
    "\n",
    "Indention is very important when using inner classes. Every inner class should be indented by 4 spaces.\n",
    "\n",
    "We create a class (Human) with one inner class (Head). An instance is created that calls a method in the inner class:"
   ],
   "metadata": {}
  },
  {
   "cell_type": "code",
   "execution_count": 2,
   "source": [
    "class Human:\n",
    "\n",
    "    def __init__(self):\n",
    "        self.name = 'Guido'\n",
    "        self.head = self.Head()\n",
    "    \n",
    "    class Head:\n",
    "        def talk(self):\n",
    "            return 'talking...'\n",
    "    \n",
    "if __name__ == '__main__':\n",
    "    guido = Human()\n",
    "    print(guido.name)\n",
    "    print(guido.head.talk())"
   ],
   "outputs": [
    {
     "output_type": "stream",
     "name": "stdout",
     "text": [
      "Guido\n",
      "talking...\n"
     ]
    }
   ],
   "metadata": {}
  },
  {
   "cell_type": "markdown",
   "source": [
    "In the program above we have the inner class Head() which has its own method. An inner class can have both methods and variables. In this example the constructor of the class Human (init) creates a new head object.  "
   ],
   "metadata": {}
  },
  {
   "cell_type": "markdown",
   "source": [
    "### Multiple inner classes\n",
    "\n",
    "You are by no means limited to the number of inner classes, for example this code will work too:"
   ],
   "metadata": {}
  },
  {
   "cell_type": "code",
   "execution_count": 3,
   "source": [
    "class Human:\n",
    "\n",
    "    def __init__(self):\n",
    "        self.name = 'Guido'\n",
    "        self.head = self.Head()\n",
    "        self.brain = self.Brain()\n",
    "    \n",
    "    class Head:\n",
    "        def talk(self):\n",
    "            return 'talking...'\n",
    "\n",
    "    class Brain:\n",
    "        def think(self):\n",
    "            return 'thinking...'\n",
    "\n",
    "if __name__ == '__main__':\n",
    "    guido = Human()\n",
    "    print(guido.name)\n",
    "    print(guido.head.talk())\n",
    "    print(guido.brain.think())"
   ],
   "outputs": [
    {
     "output_type": "stream",
     "name": "stdout",
     "text": [
      "Guido\n",
      "talking...\n",
      "thinking...\n"
     ]
    }
   ],
   "metadata": {}
  },
  {
   "cell_type": "markdown",
   "source": [
    "By using inner classes you can make your code even more object orientated. A single object can hold several sub objects.  We can use them to add more structure to our programs."
   ],
   "metadata": {}
  },
  {
   "cell_type": "markdown",
   "source": [
    "Why inner class?\n",
    "An inner class lets you group classes. They have some advantages over using only distinct classes.\n",
    "\n",
    "Inner class has a local scope\n",
    "Easy to understand which classes are related\n",
    "Inner classes (sometimes callled nested classes) are not widely used in Python.\n",
    "\n"
   ],
   "metadata": {}
  },
  {
   "cell_type": "markdown",
   "source": [],
   "metadata": {}
  }
 ],
 "metadata": {
  "orig_nbformat": 4,
  "language_info": {
   "name": "python",
   "version": "3.8.10",
   "mimetype": "text/x-python",
   "codemirror_mode": {
    "name": "ipython",
    "version": 3
   },
   "pygments_lexer": "ipython3",
   "nbconvert_exporter": "python",
   "file_extension": ".py"
  },
  "kernelspec": {
   "name": "python3",
   "display_name": "Python 3.8.10 64-bit"
  },
  "interpreter": {
   "hash": "916dbcbb3f70747c44a77c7bcd40155683ae19c65e1c03b4aa3499c5328201f1"
  }
 },
 "nbformat": 4,
 "nbformat_minor": 2
}