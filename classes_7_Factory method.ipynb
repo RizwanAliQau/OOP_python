{
 "cells": [
  {
   "cell_type": "markdown",
   "source": [
    "## Factory method\n",
    "\n",
    "\n",
    "We may not always know what kind of objects we want to create in advance.\n",
    "Some objects can be created only at execution time after a user requests so.\n",
    "\n",
    "Examples when you may use a factory method:\n",
    "\n",
    "\n",
    "A user may click on a certain button that creates an object.\n",
    "\n",
    "A user may create several new documents of different types.\n",
    "\n",
    "If a user starts a webbrowser, the browser does not know in advance how many tabs (where every tab is an object) will be opened.\n",
    "\n",
    "### Factory method pattern\n",
    "\n",
    "To deal with this we can use the factory method pattern.\n",
    "The idea is to have one function, the factory, that takes an input string and outputs an object."
   ],
   "metadata": {}
  },
  {
   "cell_type": "code",
   "execution_count": 4,
   "source": [
    "class Car(object):\n",
    "\n",
    "    def factory(type):\n",
    "        if type == \"Racecar\":\n",
    "            return Racecar()\n",
    "        if type == \"Van\":\n",
    "            return Van()\n",
    "\n",
    "    factory = staticmethod(factory)\n",
    "\n",
    "class Racecar(Car):\n",
    "    def drive(self):\n",
    "        print(\"Racecar driving.\")\n",
    "\n",
    "class Van(Car):\n",
    "    def drive(self):\n",
    "        print(\"Van driving.\")\n",
    "\n",
    "# Create object using factory.\n",
    "obj = Car.factory(\"Racecar\")\n",
    "obj.drive()"
   ],
   "outputs": [
    {
     "output_type": "stream",
     "name": "stdout",
     "text": [
      "Racecar driving.\n"
     ]
    }
   ],
   "metadata": {}
  },
  {
   "cell_type": "code",
   "execution_count": null,
   "source": [],
   "outputs": [],
   "metadata": {}
  }
 ],
 "metadata": {
  "orig_nbformat": 4,
  "language_info": {
   "name": "python",
   "version": "3.8.10",
   "mimetype": "text/x-python",
   "codemirror_mode": {
    "name": "ipython",
    "version": 3
   },
   "pygments_lexer": "ipython3",
   "nbconvert_exporter": "python",
   "file_extension": ".py"
  },
  "kernelspec": {
   "name": "python3",
   "display_name": "Python 3.8.10 64-bit"
  },
  "interpreter": {
   "hash": "916dbcbb3f70747c44a77c7bcd40155683ae19c65e1c03b4aa3499c5328201f1"
  }
 },
 "nbformat": 4,
 "nbformat_minor": 2
}