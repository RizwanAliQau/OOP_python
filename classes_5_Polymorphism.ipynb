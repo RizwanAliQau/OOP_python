{
 "cells": [
  {
   "cell_type": "markdown",
   "source": [
    "## Polymorphism\n",
    "\n",
    "Sometimes an object comes in many types or forms. If we have a button, there are many different draw outputs (round button, check button, square button, button with image) but they do share the same logic: onClick().  We access them using the same method . This idea is called Polymorphism.\n",
    "\n",
    "Polymorphism is based on the greek words Poly (many) and morphism (forms).  We will create a structure that can take or use many forms of objects."
   ],
   "metadata": {}
  },
  {
   "cell_type": "markdown",
   "source": [
    "Polymorphism with a function:\n"
   ],
   "metadata": {}
  },
  {
   "cell_type": "markdown",
   "source": [
    "We create two classes:  Bear and Dog, both  can make a distinct sound.  We then make two instances and call their action using the same method."
   ],
   "metadata": {}
  },
  {
   "cell_type": "code",
   "execution_count": 1,
   "source": [
    "class Bear(object):\n",
    "    def sound(self):\n",
    "        print(\"Groarrr\")\n",
    "    \n",
    "class Dog(object):\n",
    "    def sound(self):\n",
    "        print(\"Woof woof!\")\n",
    "    \n",
    "def makeSound(animalType):\n",
    "    animalType.sound()\n",
    "    \n",
    "\n",
    "bearObj = Bear()\n",
    "dogObj = Dog()\n",
    "    \n",
    "makeSound(bearObj)\n",
    "makeSound(dogObj)"
   ],
   "outputs": [
    {
     "output_type": "stream",
     "name": "stdout",
     "text": [
      "Groarrr\n",
      "Woof woof!\n"
     ]
    }
   ],
   "metadata": {}
  },
  {
   "cell_type": "markdown",
   "source": [
    "## Polymorphism with abstract class (most commonly used)\n",
    "\n",
    "![](images/polymorphism.png)\n",
    "\n",
    "Polymorphism visual.\n",
    "\n",
    "Abstract structure is defined in Document class.\n",
    "\n",
    "If you create an editor you may not know in advance what type of documents a user will open (pdf format or word format?).  \n",
    "\n",
    "Wouldn’t it be great to acess them like this,  instead of having 20 types for every document?\n",
    "\n",
    "To do so, we create an abstract class called document.  This class does not have any implementation but defines the structure (in form of functions) that all forms must have.   If we define the function show()  then both the PdfDocument and WordDocument must have the show() function. Full code:"
   ],
   "metadata": {}
  },
  {
   "cell_type": "markdown",
   "source": [],
   "metadata": {}
  },
  {
   "cell_type": "code",
   "execution_count": 2,
   "source": [
    "class Document:\n",
    "    def __init__(self, name):\n",
    "        self.name = name\n",
    "    \n",
    "    def show(self):\n",
    "        raise NotImplementedError(\"Subclass must implement abstract method\")\n",
    "    \n",
    "class Pdf(Document):\n",
    "    def show(self):\n",
    "        return 'Show pdf contents!'\n",
    "\n",
    "class Word(Document):\n",
    "    def show(self):\n",
    "        return 'Show word contents!'\n",
    "    \n",
    "class ppt(Document):\n",
    "    pass\n",
    "\n",
    "documents = [Pdf('Document1'),\n",
    "Pdf('Document2'),\n",
    "Word('Document3')]\n",
    "#ppt('Document4')]\n",
    "\n",
    "for document in documents:\n",
    "    print(document.name + ': ' + document.show())"
   ],
   "outputs": [
    {
     "output_type": "stream",
     "name": "stdout",
     "text": [
      "Document1: Show pdf contents!\n",
      "Document2: Show pdf contents!\n",
      "Document3: Show word contents!\n"
     ]
    }
   ],
   "metadata": {}
  },
  {
   "cell_type": "markdown",
   "source": [
    "We have an abstract access point (document) to many types of objects (pdf,word) that follow the same structure."
   ],
   "metadata": {}
  },
  {
   "cell_type": "markdown",
   "source": [
    "- Polymorphism example\n",
    "\n",
    "Structure in abstract class, implementation in other classes\n",
    "\n",
    "Another example would be to have an abstract class Car which holds the structure  drive() and stop().  \n",
    "\n",
    "We define two objects Sportscar and Truck, both are a form of Car. In pseudo code what we will do is:\n",
    "\n",
    "Then we can access any type of car and  call the functionality without taking further into account if the form is Sportscar or Truck.  Full code:"
   ],
   "metadata": {}
  },
  {
   "cell_type": "code",
   "execution_count": 3,
   "source": [
    "class Car:\n",
    "    def __init__(self, name):\n",
    "        self.name = name\n",
    "    \n",
    "    def drive(self):\n",
    "        raise NotImplementedError(\"Subclass must implement abstract method\")\n",
    "\n",
    "    def stop(self):\n",
    "        raise NotImplementedError(\"Subclass must implement abstract method\")\n",
    "    \n",
    "class Sportscar(Car):\n",
    "    def drive(self):\n",
    "        return 'Sportscar driving!'\n",
    "\n",
    "    def stop(self):\n",
    "        return 'Sportscar braking!'\n",
    "    \n",
    "class Truck(Car):\n",
    "    def drive(self):\n",
    "        return 'Truck driving slowly because heavily loaded.'\n",
    "\n",
    "    def stop(self):\n",
    "        return 'Truck braking!'\n",
    "\n",
    "cars = [Truck('Bananatruck'),\n",
    "Truck('Orangetruck'),\n",
    "Sportscar('Z3')]\n",
    "\n",
    "for car in cars:\n",
    "    print(car.name + ': ' + car.drive())\n"
   ],
   "outputs": [
    {
     "output_type": "stream",
     "name": "stdout",
     "text": [
      "Bananatruck: Truck driving slowly because heavily loaded.\n",
      "Orangetruck: Truck driving slowly because heavily loaded.\n",
      "Z3: Sportscar driving!\n"
     ]
    }
   ],
   "metadata": {}
  },
  {
   "cell_type": "code",
   "execution_count": null,
   "source": [],
   "outputs": [],
   "metadata": {}
  }
 ],
 "metadata": {
  "orig_nbformat": 4,
  "language_info": {
   "name": "python",
   "version": "3.8.10",
   "mimetype": "text/x-python",
   "codemirror_mode": {
    "name": "ipython",
    "version": 3
   },
   "pygments_lexer": "ipython3",
   "nbconvert_exporter": "python",
   "file_extension": ".py"
  },
  "kernelspec": {
   "name": "python3",
   "display_name": "Python 3.8.10 64-bit"
  },
  "interpreter": {
   "hash": "916dbcbb3f70747c44a77c7bcd40155683ae19c65e1c03b4aa3499c5328201f1"
  }
 },
 "nbformat": 4,
 "nbformat_minor": 2
}