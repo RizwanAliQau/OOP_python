{
 "cells": [
  {
   "cell_type": "markdown",
   "source": [
    "## Encapsulation\n",
    "\n",
    "In an object oriented python program, you can restrict access to methods and variables. This can prevent the data from being modified by accident and is known as encapsulation. \n",
    "\n",
    "### - Private methods\n",
    "\n",
    "We create a class Car which has two methods:  drive() and updateSoftware().  When a car object is created, it will call the private methods __updateSoftware().  \n",
    "\n",
    "This function cannot be called on the object directly, only from within the class.\n"
   ],
   "metadata": {}
  },
  {
   "cell_type": "code",
   "execution_count": 1,
   "source": [
    "class Car:\n",
    "\n",
    "    def __init__(self):\n",
    "        self.__updateSoftware()\n",
    "\n",
    "    def drive(self):\n",
    "        print('driving')\n",
    "\n",
    "    def __updateSoftware(self):\n",
    "        print('updating software')\n",
    "\n",
    "redcar = Car()\n",
    "redcar.drive()"
   ],
   "outputs": [
    {
     "output_type": "stream",
     "name": "stdout",
     "text": [
      "updating software\n",
      "driving\n"
     ]
    }
   ],
   "metadata": {}
  },
  {
   "cell_type": "markdown",
   "source": [
    "**Encapsulation prevents from accessing accidentally, but not intentionally.**\n",
    "\n",
    "The private attributes and methods are not really hidden, they’re renamed adding _Car” in the beginning of their name.\n",
    "\n",
    "The method can actually be called using redcar._Car__updateSoftware()"
   ],
   "metadata": {}
  },
  {
   "cell_type": "code",
   "execution_count": 3,
   "source": [
    "dir(Car)[0]"
   ],
   "outputs": [
    {
     "output_type": "execute_result",
     "data": {
      "text/plain": [
       "'_Car__updateSoftware'"
      ]
     },
     "metadata": {},
     "execution_count": 3
    }
   ],
   "metadata": {}
  },
  {
   "cell_type": "markdown",
   "source": [
    "### Private variables\n"
   ],
   "metadata": {}
  },
  {
   "cell_type": "markdown",
   "source": [
    "**Class with private variables:**\n",
    "\n",
    "Variables can be private which can be useful on many occasions. A private variable can only be changed within a class method and not outside of the class.\n",
    "\n",
    "Objects can hold crucial data for your application and you do not want that data to be changeable from anywhere in the code.\n",
    "An example:"
   ],
   "metadata": {}
  },
  {
   "cell_type": "code",
   "execution_count": 4,
   "source": [
    "class Car:\n",
    "\n",
    "    __maxspeed = 0\n",
    "    __name = \"\"\n",
    "    \n",
    "    def __init__(self):\n",
    "        self.__maxspeed = 200\n",
    "        self.__name = \"Supercar\"\n",
    "    \n",
    "    def drive(self):\n",
    "        print('driving. maxspeed ' + str(self.__maxspeed))\n",
    "\n",
    "redcar = Car()\n",
    "redcar.drive()\n",
    "redcar.__maxspeed = 10  # will not change variable because its private\n",
    "redcar.drive()"
   ],
   "outputs": [
    {
     "output_type": "stream",
     "name": "stdout",
     "text": [
      "driving. maxspeed 200\n",
      "driving. maxspeed 200\n"
     ]
    }
   ],
   "metadata": {}
  },
  {
   "cell_type": "markdown",
   "source": [
    "If you want to change the value of a private variable, a setter method is used.  This is simply a method that sets the value of a private variable."
   ],
   "metadata": {}
  },
  {
   "cell_type": "code",
   "execution_count": 5,
   "source": [
    "class Car:\n",
    "\n",
    "    __maxspeed = 0\n",
    "    __name = \"\"\n",
    "    \n",
    "    def __init__(self):\n",
    "        self.__maxspeed = 200\n",
    "        self.__name = \"Supercar\"\n",
    "    \n",
    "    def drive(self):\n",
    "        print('driving. maxspeed ' + str(self.__maxspeed))\n",
    "\n",
    "    def setMaxSpeed(self,speed):\n",
    "        self.__maxspeed = speed"
   ],
   "outputs": [],
   "metadata": {}
  },
  {
   "cell_type": "markdown",
   "source": [
    "**<u>Note</u>** \n",
    "\n",
    "Why would you create them? Because some of the private values you may want to change after creation of the object while others may not need to be changed at all.\n",
    "\n",
    "Other programming languages have protected class methods too, but Python does not.\n",
    "Encapsulation gives you more control over the degree of coupling in your code, it allows a class to change its implementation without affecting other parts of the code."
   ],
   "metadata": {}
  }
 ],
 "metadata": {
  "orig_nbformat": 4,
  "language_info": {
   "name": "python",
   "version": "3.8.10",
   "mimetype": "text/x-python",
   "codemirror_mode": {
    "name": "ipython",
    "version": 3
   },
   "pygments_lexer": "ipython3",
   "nbconvert_exporter": "python",
   "file_extension": ".py"
  },
  "kernelspec": {
   "name": "python3",
   "display_name": "Python 3.8.10 64-bit"
  },
  "interpreter": {
   "hash": "916dbcbb3f70747c44a77c7bcd40155683ae19c65e1c03b4aa3499c5328201f1"
  }
 },
 "nbformat": 4,
 "nbformat_minor": 2
}