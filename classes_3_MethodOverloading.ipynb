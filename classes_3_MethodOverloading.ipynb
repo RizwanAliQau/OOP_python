{
 "cells": [
  {
   "cell_type": "markdown",
   "source": [
    "## **<u> Method overloading</u>**\n",
    "\n",
    "Several ways to call a method (method overloading)\n",
    "In Python you can define a method in such a way that there are multiple ways to call it.\n",
    "\n",
    "Given a single method or function, we can specify the number of parameters ourself.\n",
    "\n",
    "Depending on the function definition, it can be called with zero, one, two or more parameters.\n",
    "\n",
    "This is known as method overloading. Not all programming languages support method overloading, but Python does.\n",
    "\n",
    "![](images/method-overloading.png)\n",
    "\n",
    "**Example**\n",
    "\n",
    "We create a class with one method sayHello(). The first parameter of this method is set to None, this gives us the option to call it with or without a parameter.\n",
    "\n",
    "An object is created based on the class, and we call its method using zero and one parameter.\n"
   ],
   "metadata": {}
  },
  {
   "cell_type": "code",
   "execution_count": 1,
   "source": [
    "class Human:\n",
    "\n",
    "    def sayHello(self, name=None):\n",
    "    \n",
    "        if name is not None:\n",
    "            print('Hello ' + name)\n",
    "        else:\n",
    "            print('Hello ')\n",
    "        \n",
    "\n",
    "# Create instance\n",
    "obj = Human()\n",
    "    \n",
    "# Call the method\n",
    "obj.sayHello()\n",
    "    \n",
    "# Call the method with a parameter\n",
    "obj.sayHello('Guido')\n",
    "    "
   ],
   "outputs": [
    {
     "output_type": "stream",
     "name": "stdout",
     "text": [
      "Hello \n",
      "Hello Guido\n"
     ]
    }
   ],
   "metadata": {}
  },
  {
   "cell_type": "markdown",
   "source": [
    "We created a method that can be called with fewer arguments than it is defined to allow.\n",
    "\n",
    "We are not limited to two variables, your method could have more variables which are optional."
   ],
   "metadata": {}
  }
 ],
 "metadata": {
  "orig_nbformat": 4,
  "language_info": {
   "name": "python",
   "version": "3.8.10",
   "mimetype": "text/x-python",
   "codemirror_mode": {
    "name": "ipython",
    "version": 3
   },
   "pygments_lexer": "ipython3",
   "nbconvert_exporter": "python",
   "file_extension": ".py"
  },
  "kernelspec": {
   "name": "python3",
   "display_name": "Python 3.8.10 64-bit"
  },
  "interpreter": {
   "hash": "916dbcbb3f70747c44a77c7bcd40155683ae19c65e1c03b4aa3499c5328201f1"
  }
 },
 "nbformat": 4,
 "nbformat_minor": 2
}